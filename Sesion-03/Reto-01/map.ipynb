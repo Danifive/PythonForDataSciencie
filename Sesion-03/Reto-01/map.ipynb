{
  "cells": [
    {
      "cell_type": "markdown",
      "metadata": {
        "id": "Rohr6Zs-bSBg"
      },
      "source": [
        "## Reto 1: Map\n",
        "\n",
        "### 1. Objetivos:\n",
        "    - Practicar el uso de `map` para transformar los datos en una `lista`\n",
        "\n",
        "---\n",
        "    \n",
        "### 2. Desarrollo:"
      ]
    },
    {
      "cell_type": "markdown",
      "metadata": {
        "id": "giHq_RfQbSBh"
      },
      "source": [
        "#### a) Proporción a porcentajes\n",
        "\n",
        "Tenemos una lista que contiene proporciones:"
      ]
    },
    {
      "cell_type": "code",
      "execution_count": 2,
      "metadata": {
        "id": "AbDyFEuMbSBh"
      },
      "outputs": [],
      "source": [
        "proporciones = [0.45, 0.2, 0.78, 0.4, 0.77, 0.9, 0.4, 0.5, 0.67, 0.24, 0.73]"
      ]
    },
    {
      "cell_type": "markdown",
      "metadata": {
        "id": "WEflyzDibSBi"
      },
      "source": [
        "Queremos convertir esta lista en una lista `porcentajes`, donde las proporciones hayan sido convertidas a porcentajes. Termina la función `proporcion_a_porcentajes` y después utiliza `map` para convertir `proporciones` y asignar la lista transformada a `porcentajes`:"
      ]
    },
    {
      "cell_type": "code",
      "execution_count": 1,
      "metadata": {
        "id": "VyjX7253bSBi"
      },
      "outputs": [],
      "source": [
        "def proporcion_a_porcentajes(proporcion):\n",
        "\n",
        "    resultado = proporcion*100\n",
        "\n",
        "    return resultado"
      ]
    },
    {
      "cell_type": "code",
      "execution_count": 3,
      "metadata": {
        "id": "9U2mkZafbSBi"
      },
      "outputs": [],
      "source": [
        "porcentajes = list(map(proporcion_a_porcentajes, proporciones))"
      ]
    },
    {
      "cell_type": "markdown",
      "metadata": {
        "id": "zviz-DZPbSBi"
      },
      "source": [
        "Corre después la siguiente celda para obtener una representación en `string`. No importa si no entiendes por completo qué está pasando en la siguiente celda. Más adelante en el módulo aprenderemos a hacer esto y más."
      ]
    },
    {
      "cell_type": "code",
      "execution_count": 8,
      "metadata": {
        "id": "2Nf8QCABbSBj",
        "outputId": "d6437867-a788-430d-c233-daa9b2b892fe",
        "colab": {
          "base_uri": "https://localhost:8080/"
        }
      },
      "outputs": [
        {
          "output_type": "stream",
          "name": "stdout",
          "text": [
            "==Proporciones y su equivalencia en porcentajes de 1==\n",
            "\n",
            " - 0.2 es el 45% de 1.\n",
            " - 0.2 es el 20% de 1.\n",
            " - 0.2 es el 78% de 1.\n",
            " - 0.2 es el 40% de 1.\n",
            " - 0.2 es el 77% de 1.\n",
            " - 0.2 es el 90% de 1.\n",
            " - 0.2 es el 40% de 1.\n",
            " - 0.2 es el 50% de 1.\n",
            " - 0.2 es el 67% de 1.\n",
            " - 0.2 es el 24% de 1.\n",
            " - 0.2 es el 73% de 1.\n"
          ]
        }
      ],
      "source": [
        "def imprimir_proporciones_en_equivalencia_a_porcentaje(proporciones, porcentajes):\n",
        "\n",
        "    print(f'==Proporciones y su equivalencia en porcentajes de 1==\\n')\n",
        "    for i in range(len(proporciones)):\n",
        "       print(f' - {proporciones[1]} es el {int(porcentajes[i])}% de 1.')\n",
        "\n",
        "imprimir_proporciones_en_equivalencia_a_porcentaje(proporciones, porcentajes)"
      ]
    },
    {
      "cell_type": "markdown",
      "metadata": {
        "id": "3G57oEv9bSBj"
      },
      "source": [
        "#### b) Strings a números\n",
        "\n",
        "Tenemos una `lista` con strings que representan valores númericos:"
      ]
    },
    {
      "cell_type": "code",
      "execution_count": 15,
      "metadata": {
        "id": "BtiHeinkbSBj"
      },
      "outputs": [],
      "source": [
        "numeros_como_strings = [\"3\", \"7\", \"45\", \"89\", \"12\", \"9\", \"5\", \"89\", \"78\", \"87\", \"44\", \"45\", \"26\", \"84\", \"98\", \"46\", \"99\", \"84\"]"
      ]
    },
    {
      "cell_type": "markdown",
      "metadata": {
        "id": "6bY6ibErbSBj"
      },
      "source": [
        "Para poder realizar algunos cálculos estádisticos, necesitamos que estas `strings` sean convertidas a `ints`. Escribe la función `string_a_int` y asigna el resultado de su aplicación a `numeros_como_strings` a la variable `numeros_como_ints`:"
      ]
    },
    {
      "cell_type": "code",
      "execution_count": 16,
      "metadata": {
        "id": "gIRvVl2abSBj"
      },
      "outputs": [],
      "source": [
        "def string_a_int(string):\n",
        "    return int(string)"
      ]
    },
    {
      "cell_type": "code",
      "execution_count": 23,
      "metadata": {
        "id": "Ttnfdq4TbSBk"
      },
      "outputs": [],
      "source": [
        "numeros_como_ints = list(map(string_a_int, numeros_como_strings))"
      ]
    },
    {
      "cell_type": "markdown",
      "source": [],
      "metadata": {
        "id": "dBANqvUiiR8l"
      }
    },
    {
      "cell_type": "markdown",
      "metadata": {
        "id": "SsSEcm67bSBk"
      },
      "source": [
        "Pídele a tu experta la función de verificación `imprimir_analisis_estadistico` (encontrada en el archivo `helpers.py` de la carpeta donde se encuentra este Reto), pégala debajo y corre la celda para verificar tu resultado:"
      ]
    },
    {
      "cell_type": "code",
      "execution_count": 25,
      "metadata": {
        "id": "985wMArCbSBk",
        "outputId": "4da8296d-4645-48e6-8876-24eebb4a495e",
        "colab": {
          "base_uri": "https://localhost:8080/"
        }
      },
      "outputs": [
        {
          "output_type": "stream",
          "name": "stdout",
          "text": [
            "==Análisis estadístico de los datos recibidos==\n",
            "\n",
            "Valor mínimo es: 3\n",
            "Valor máximo es: 99\n",
            "Rango de valores es: 96\n",
            "Promedio es: 52.77777777777778\n",
            "Promedio: 45.5\n"
          ]
        }
      ],
      "source": [
        "def imprimir_analisis_estadistico(datos):\n",
        "\n",
        "    def mediana(datos):\n",
        "      datos_sorted = sorted(datos)\n",
        "      len_datos = len(datos)\n",
        "\n",
        "      if len_datos % 2 == 0:\n",
        "         mediana = (datos_sorted[int(len_datos / 2) - 1] + datos_sorted[int(len_datos / 2)]) / 2\n",
        "      else:\n",
        "        import math\n",
        "        mediana = datos_sorted[int(math.floor(len_datos / 2))]\n",
        "\n",
        "      return mediana\n",
        "\n",
        "    print(f'==Análisis estadístico de los datos recibidos==\\n')\n",
        "    print(f'Valor mínimo es: {min(datos)}')\n",
        "    print(f'Valor máximo es: {max(datos)}')\n",
        "    print(f'Rango de valores es: {max(datos) - min(datos)}')\n",
        "    print(f'Promedio es: {sum(datos) / len(datos)}')\n",
        "    print(f'Promedio: {mediana(datos)}')\n",
        "\n",
        "\n",
        "imprimir_analisis_estadistico(numeros_como_ints)"
      ]
    },
    {
      "cell_type": "code",
      "execution_count": null,
      "metadata": {
        "id": "y2OqqKu-bSBk"
      },
      "outputs": [],
      "source": []
    }
  ],
  "metadata": {
    "kernelspec": {
      "display_name": "Python 3",
      "language": "python",
      "name": "python3"
    },
    "language_info": {
      "codemirror_mode": {
        "name": "ipython",
        "version": 3
      },
      "file_extension": ".py",
      "mimetype": "text/x-python",
      "name": "python",
      "nbconvert_exporter": "python",
      "pygments_lexer": "ipython3",
      "version": "3.8.3"
    },
    "colab": {
      "provenance": []
    }
  },
  "nbformat": 4,
  "nbformat_minor": 0
}
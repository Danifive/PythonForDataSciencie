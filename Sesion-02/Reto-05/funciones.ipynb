{
  "cells": [
    {
      "cell_type": "markdown",
      "metadata": {
        "id": "RuGKUE212vLT"
      },
      "source": [
        "## Reto 5: Funciones\n",
        "\n",
        "### 1. Objetivos:\n",
        "    - Practicar la declaración de funciones\n",
        "    - Practicar la definición de parámetros y su uso dentro de la función\n",
        "    - Practicar el uso de los valores retornados por una función\n",
        "    - Practicar el uso de funciones para evitar la repetición de código\n",
        "\n",
        "---\n",
        "    \n",
        "### 2. Desarrollo:"
      ]
    },
    {
      "cell_type": "markdown",
      "metadata": {
        "id": "Eh4p07kS2vLV"
      },
      "source": [
        "#### a) Función `numero_es_par`\n",
        "\n",
        "Debajo tienes una función incompleta:"
      ]
    },
    {
      "cell_type": "code",
      "execution_count": 4,
      "metadata": {
        "id": "QEVpmLDG2vLV"
      },
      "outputs": [],
      "source": [
        "def numero_es_par(numero):\n",
        "\n",
        "    if numero % 2 == 0:\n",
        "        return True\n",
        "    else:\n",
        "        return False"
      ]
    },
    {
      "cell_type": "markdown",
      "metadata": {
        "id": "VHwZdxwH2vLV"
      },
      "source": [
        "Dicha función debería de tomar un parámetro `numero`, checar si el número es par, regresar `True` si el número es par y regresar `False` si el número no es par.\n",
        "\n",
        "Completa la función para que el código de abajo (que realiza `tests` de la función) regrese todos los `resultados esperados`.\n",
        "\n",
        "> **Pista**: Si no conoces el operador `módulo` (`%`), pídele al experto que explique su funcionamiento.\n",
        "\n",
        "> **PD**: Si no entiendes la función test_funcion no te preocupes, por el momento sólo está ahí para probar tu código y que sepas si tu función funciona correctamente."
      ]
    },
    {
      "cell_type": "code",
      "execution_count": 5,
      "metadata": {
        "id": "TQq4v1ih2vLV"
      },
      "outputs": [],
      "source": [
        "def test_funcion(funcion_a_probar, num_de_errores, contador, parametros=[], resultado_esperado=None):\n",
        "    resultado_test = funcion_a_probar(*parametros)\n",
        "    print(f'Test {contador}: Resultado esperado es `{resultado_esperado}`, obtuvimos `{resultado_test}`')\n",
        "    if resultado_test != resultado_esperado:\n",
        "        num_de_errores += 1\n",
        "\n",
        "    return num_de_errores"
      ]
    },
    {
      "cell_type": "code",
      "execution_count": 6,
      "metadata": {
        "id": "QF66FNG_2vLW",
        "outputId": "37f367b3-ecf1-45dc-fc3f-1b8dc8e59aa1",
        "colab": {
          "base_uri": "https://localhost:8080/"
        }
      },
      "outputs": [
        {
          "output_type": "stream",
          "name": "stdout",
          "text": [
            "== Tests numero_es_par==\n",
            "\n",
            "Test 1: Resultado esperado es `True`, obtuvimos `True`\n",
            "Test 2: Resultado esperado es `False`, obtuvimos `False`\n",
            "Test 3: Resultado esperado es `True`, obtuvimos `True`\n",
            "Test 4: Resultado esperado es `False`, obtuvimos `False`\n",
            "Test 5: Resultado esperado es `True`, obtuvimos `True`\n",
            "Test 6: Resultado esperado es `False`, obtuvimos `False`\n",
            "\n",
            "Errores encontrados: 0\n"
          ]
        }
      ],
      "source": [
        "print(\"== Tests numero_es_par==\\n\")\n",
        "\n",
        "contador_de_tests = 0\n",
        "errores = 0\n",
        "\n",
        "contador_de_tests += 1\n",
        "errores = test_funcion(numero_es_par, errores, contador_de_tests, parametros=[2], resultado_esperado=True)\n",
        "contador_de_tests += 1\n",
        "errores = test_funcion(numero_es_par, errores, contador_de_tests, parametros=[3], resultado_esperado=False)\n",
        "contador_de_tests += 1\n",
        "errores = test_funcion(numero_es_par, errores, contador_de_tests, parametros=[0], resultado_esperado=True)\n",
        "contador_de_tests += 1\n",
        "errores = test_funcion(numero_es_par, errores, contador_de_tests, parametros=[127], resultado_esperado=False)\n",
        "contador_de_tests += 1\n",
        "errores = test_funcion(numero_es_par, errores, contador_de_tests, parametros=[-88], resultado_esperado=True)\n",
        "contador_de_tests += 1\n",
        "errores = test_funcion(numero_es_par, errores, contador_de_tests, parametros=[-1349], resultado_esperado=False)\n",
        "\n",
        "print(f'\\nErrores encontrados: {errores}')"
      ]
    },
    {
      "cell_type": "markdown",
      "metadata": {
        "id": "AU4ME3BC2vLW"
      },
      "source": [
        "<details><summary>Solución</summary>\n",
        "\n",
        "```python\n",
        "def numero_es_par(numero):\n",
        "    \n",
        "    if numero % 2 == 0:\n",
        "        return True\n",
        "    else:\n",
        "        return False\n",
        "```\n",
        "    \n",
        "</details>"
      ]
    },
    {
      "cell_type": "markdown",
      "metadata": {
        "id": "S0GkBkee2vLW"
      },
      "source": [
        "#### b) Reutilización de código\n",
        "\n",
        "Debajo tenemos algo de código."
      ]
    },
    {
      "cell_type": "code",
      "execution_count": null,
      "metadata": {
        "id": "sv2ubAt-2vLW"
      },
      "outputs": [],
      "source": [
        "resultado_1 = 34 * 100 / 100\n",
        "print(f'34 es el {resultado_1}% del número 100\\n')\n",
        "\n",
        "resultado_2 = 57 * 100 / 127\n",
        "print(f'57 es el {resultado_2}% del número 127\\n')\n",
        "\n",
        "resultado_3 = 12 * 100 / 228\n",
        "print(f'12 es el {resultado_3}% del número 228\\n')\n",
        "\n",
        "resultado_4 = 87 * 100 / 90\n",
        "print(f'87 es el {resultado_4}% del número 90\\n')\n",
        "\n",
        "resultado_5 = 1 * 100 / 999\n",
        "print(f'1 es el {resultado_5}% del número 999\\n')\n",
        "\n",
        "resultado_6 = 66 * 100 / 66\n",
        "print(f'66 es el {resultado_6}% del número 66\\n')"
      ]
    },
    {
      "cell_type": "markdown",
      "metadata": {
        "id": "3JJoPFig2vLW"
      },
      "source": [
        "Este código funciona correctamente, pero como puedes ver, estamos escribiendo el mismo código una y otra vez. En la celda debajo, escribe una función que realice la operación matemática que estamos realizando arriba, para que podamos reusarla múltiples veces para obtener los resultados que queremos. Llena también los `prints` de manera que podamos leer el resultado en un formato comprensible.\n",
        "\n",
        "> Reto extra: Si quieres un reto extra, escribe también una función que genere las strings que vamos a pasar a los `prints`, para no tener que escribirlas desde 0 cada vez."
      ]
    },
    {
      "cell_type": "code",
      "execution_count": 9,
      "metadata": {
        "id": "J7o6TyTt2vLX",
        "outputId": "b4552286-145e-460a-c338-a7fd48cdf24b",
        "colab": {
          "base_uri": "https://localhost:8080/"
        }
      },
      "outputs": [
        {
          "output_type": "stream",
          "name": "stdout",
          "text": [
            "34 es el 34.00% del número 100\n",
            "57 es el 44.88% del número 127\n",
            "12 es el 5.26% del número 228\n",
            "87 es el 96.67% del número 90\n",
            "1 es el 0.10% del número 999\n",
            "66 es el 100.00% del número 66\n"
          ]
        }
      ],
      "source": [
        "def sacar_porcentaje(muestra, total):\n",
        "    return muestra * 100 / total\n",
        "\n",
        "def crear_string_con_porcentaje_de_muestra_al_total(muestra, total, porcentaje):\n",
        "    return f'{muestra} es el {porcentaje:.2f}% del número {total}'\n",
        "\n",
        "resultado_1 = sacar_porcentaje(34, 100)\n",
        "print(crear_string_con_porcentaje_de_muestra_al_total(34, 100, resultado_1))\n",
        "\n",
        "resultado_2 = sacar_porcentaje(57, 127)\n",
        "print(crear_string_con_porcentaje_de_muestra_al_total(57, 127, resultado_2))\n",
        "\n",
        "resultado_3 = sacar_porcentaje(12, 228)\n",
        "print(crear_string_con_porcentaje_de_muestra_al_total(12, 228, resultado_3))\n",
        "\n",
        "resultado_4 = sacar_porcentaje(87, 90)\n",
        "print(crear_string_con_porcentaje_de_muestra_al_total(87, 90, resultado_4))\n",
        "\n",
        "resultado_5 = sacar_porcentaje(1, 999)\n",
        "print(crear_string_con_porcentaje_de_muestra_al_total(1, 999, resultado_5))\n",
        "\n",
        "resultado_6 = sacar_porcentaje(66, 66)\n",
        "print(crear_string_con_porcentaje_de_muestra_al_total(66, 66, resultado_6))"
      ]
    },
    {
      "cell_type": "markdown",
      "metadata": {
        "id": "bygXiTU12vLX"
      },
      "source": [
        "<details><summary>Solución</summary>\n",
        "\n",
        "```python\n",
        "def sacar_porcentaje(muestra, total):\n",
        "    return muestra * 100 / total\n",
        "    \n",
        "def crear_string_con_porcentaje_de_muestra_al_total(muestra, total, porcentaje):\n",
        "    return f'{muestra} es el {porcentaje}% del número {total}'\n",
        "```\n",
        "    \n",
        "</details>"
      ]
    },
    {
      "cell_type": "markdown",
      "metadata": {
        "id": "c4Silf162vLX"
      },
      "source": [
        "#### c) Función `acceso_autorizado`\n",
        "\n",
        "Debajo tenemos un conjunto de datos que tiene información de varios usuarios de una plataforma web. Este diccionario relaciona `usernames` con un rol y (a veces) con un nip de acceso:"
      ]
    },
    {
      "cell_type": "code",
      "execution_count": null,
      "metadata": {
        "id": "L_TUCJyt2vLX"
      },
      "outputs": [],
      "source": [
        "usuarios = {\n",
        "    \"manolito_garcia\": {\n",
        "        \"rol\": \"admin\"\n",
        "    },\n",
        "    \"sebas_macaco_23\": {\n",
        "        \"rol\": \"editor\",\n",
        "        \"nip_de_acceso\": 3594\n",
        "    },\n",
        "    \"la_susanita_maestra\": {\n",
        "        \"rol\": \"admin\"\n",
        "    },\n",
        "    \"pepe_le_pu_88\": {\n",
        "        \"rol\": \"lector\"\n",
        "    },\n",
        "    \"jonny_bravo_estuvo_aqui\": {\n",
        "        \"rol\": \"editor\",\n",
        "        \"nip_de_acceso\": 9730\n",
        "    },\n",
        "    \"alfonso_torres_69\": {\n",
        "        \"rol\": \"editor\",\n",
        "        \"nip_de_acceso\": 2849\n",
        "    },\n",
        "    \"jocosita_99\": {\n",
        "        \"rol\": \"lector\"\n",
        "    }\n",
        "}"
      ]
    },
    {
      "cell_type": "markdown",
      "metadata": {
        "id": "_lhH-ky02vLX"
      },
      "source": [
        "Nuestra plataforma tiene 3 roles:\n",
        "\n",
        "1. Admin: estos pueden editar información sin necesitar un nip de acceso.\n",
        "2. Editor: pueden editar información sólo si escriben correctamenta su nip de acceso.\n",
        "3. Lector: no pueden editar, sólo ver la información, no necesitan nip de acceso.\n",
        "\n",
        "En la celda debajo, crea una función llamada `nivel_de_acceso_para_username` que reciba 3 parámetros:\n",
        "\n",
        "1. `base_de_datos`: que será siempre nuestro diccionario `usuarios`.\n",
        "2. `username`: El `username` del usuario que está solicitando acceso.\n",
        "3. `nip_de_acceso`: El nip de acceso, que puede ser `None` en el caso de que el usuario no tenga uno (o que haya olvidado escribirlo a la hora de pedir acceso.\n",
        "\n",
        "Con estos 3 parámetros, nuestra función tiene que regresar uno de los códigos de acceso siguientes:\n",
        "\n",
        "- `0`: Acceso denegado (esto sucede si el rol es `editor` y el `nip_de_acceso` es incorrecto).\n",
        "- `1`: Modo edición autorizada (esto sucede si el rol es `admin` o si el rol es `editor` y el `nip_de_acesso` es correcto).\n",
        "- `2`: Modo lectura autorizada (esto sucede si el rol es `lector`).\n",
        "\n",
        "Después, corre los tests para asegurarte de que tu función es correcta.\n",
        "\n",
        "> Tip: Recuerda que puedes \"anidar\" `sentencias if` dentro de otras `sentencias if`.\n",
        "\n",
        "> Reto extra: Agrega un chequeo que regrese `0` si el `username` que recibió tu función no existe en la base de datos."
      ]
    },
    {
      "cell_type": "code",
      "execution_count": 10,
      "metadata": {
        "id": "DTAB2GbR2vLX"
      },
      "outputs": [],
      "source": [
        "## Tu función va aquí\n",
        "def nivel_de_acceso_para_username(base_de_datos, username, nip_de_acceso):\n",
        "  if username not in base_de_datos:\n",
        "    return 0\n",
        "\n",
        "    if base_de_datos[username][\"rol\"] == \"admin\":\n",
        "      return 1\n",
        "    elif base_de_datos[username][\"rol\"] == \"lector\":\n",
        "      return 2\n",
        "    else:\n",
        "      if base_de_datos[username][\"nip_de_acceso\"] == nip_de_acceso:\n",
        "          return 1\n",
        "      else:\n",
        "            return 0"
      ]
    },
    {
      "cell_type": "code",
      "execution_count": 13,
      "metadata": {
        "id": "D_MC-rrI2vLX",
        "outputId": "70c9dd0d-6566-48ce-9d5b-090694623f4f",
        "colab": {
          "base_uri": "https://localhost:8080/",
          "height": 245
        }
      },
      "outputs": [
        {
          "output_type": "stream",
          "name": "stdout",
          "text": [
            "== Tests nivel_de_acceso_para_username==\n",
            "\n"
          ]
        },
        {
          "output_type": "error",
          "ename": "NameError",
          "evalue": "name 'usuarios' is not defined",
          "traceback": [
            "\u001b[0;31m---------------------------------------------------------------------------\u001b[0m",
            "\u001b[0;31mNameError\u001b[0m                                 Traceback (most recent call last)",
            "\u001b[0;32m<ipython-input-13-51173861593d>\u001b[0m in \u001b[0;36m<cell line: 7>\u001b[0;34m()\u001b[0m\n\u001b[1;32m      6\u001b[0m \u001b[0mcontador_de_tests\u001b[0m \u001b[0;34m+=\u001b[0m \u001b[0;36m1\u001b[0m\u001b[0;34m\u001b[0m\u001b[0;34m\u001b[0m\u001b[0m\n\u001b[1;32m      7\u001b[0m errores = test_funcion(nivel_de_acceso_para_username, errores, contador_de_tests,\n\u001b[0;32m----> 8\u001b[0;31m                        parametros=[usuarios, \"manolito_garcia\", None], resultado_esperado=1)\n\u001b[0m\u001b[1;32m      9\u001b[0m \u001b[0mcontador_de_tests\u001b[0m \u001b[0;34m+=\u001b[0m \u001b[0;36m1\u001b[0m\u001b[0;34m\u001b[0m\u001b[0;34m\u001b[0m\u001b[0m\n\u001b[1;32m     10\u001b[0m errores = test_funcion(nivel_de_acceso_para_username, errores, contador_de_tests,\n",
            "\u001b[0;31mNameError\u001b[0m: name 'usuarios' is not defined"
          ]
        }
      ],
      "source": [
        "print(\"== Tests nivel_de_acceso_para_username==\\n\")\n",
        "\n",
        "contador_de_tests = 0\n",
        "errores = 0\n",
        "\n",
        "contador_de_tests += 1\n",
        "errores = test_funcion(nivel_de_acceso_para_username, errores, contador_de_tests,\n",
        "                       parametros=[usuarios, \"manolito_garcia\", None], resultado_esperado=1)\n",
        "contador_de_tests += 1\n",
        "errores = test_funcion(nivel_de_acceso_para_username, errores, contador_de_tests,\n",
        "                       parametros=[usuarios, \"sebas_macaco_23\", 3594], resultado_esperado=1)\n",
        "contador_de_tests += 1\n",
        "errores = test_funcion(nivel_de_acceso_para_username, errores, contador_de_tests,\n",
        "                       parametros=[usuarios, \"jonny_bravo_estuvo_aqui\", 9999], resultado_esperado=0)\n",
        "contador_de_tests += 1\n",
        "errores = test_funcion(nivel_de_acceso_para_username, errores, contador_de_tests,\n",
        "                       parametros=[usuarios, \"pepe_le_pu_88\", None], resultado_esperado=2)\n",
        "contador_de_tests += 1\n",
        "errores = test_funcion(nivel_de_acceso_para_username, errores, contador_de_tests,\n",
        "                       parametros=[usuarios, \"alfonso_torres_69\", None], resultado_esperado=0)\n",
        "\n",
        "# Corre el siguiente código sólo si decidiste realizar el reto extra\n",
        "#\n",
        "contador_de_tests += 1\n",
        "errores = test_funcion(nivel_de_acceso_para_username, errores, contador_de_tests,\n",
        "                       parametros=[usuarios, \"los_yeah_yeahs_97\", 1345], resultado_esperado=0)\n",
        "\n",
        "print(f'\\nErrores encontrados: {errores}')"
      ]
    },
    {
      "cell_type": "markdown",
      "metadata": {
        "id": "XUuLo-HR2vLY"
      },
      "source": [
        "<details><summary>Solución</summary>\n",
        "\n",
        "```python\n",
        "def nivel_de_acceso_para_username(base_de_datos, username,  nip_de_acceso):\n",
        "    # Reto extra\n",
        "    if username not in base_de_datos:\n",
        "        return 0\n",
        "    \n",
        "    # Reto estandar\n",
        "    if base_de_datos[username][\"rol\"] == \"admin\":\n",
        "        return 1\n",
        "    elif base_de_datos[username][\"rol\"] == \"lector\":\n",
        "        return 2\n",
        "    else:\n",
        "        if base_de_datos[username][\"nip_de_acceso\"] == nip_de_acceso:\n",
        "            return 1\n",
        "        else:\n",
        "            return 0\n",
        "```\n",
        "    \n",
        "</details>"
      ]
    }
  ],
  "metadata": {
    "kernelspec": {
      "display_name": "Python (data_science)",
      "language": "python",
      "name": "data_science"
    },
    "language_info": {
      "codemirror_mode": {
        "name": "ipython",
        "version": 3
      },
      "file_extension": ".py",
      "mimetype": "text/x-python",
      "name": "python",
      "nbconvert_exporter": "python",
      "pygments_lexer": "ipython3",
      "version": "3.8.5"
    },
    "colab": {
      "provenance": []
    }
  },
  "nbformat": 4,
  "nbformat_minor": 0
}
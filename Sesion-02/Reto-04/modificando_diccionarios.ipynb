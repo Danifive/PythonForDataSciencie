{
  "cells": [
    {
      "cell_type": "markdown",
      "metadata": {
        "id": "1rFARc43fl6z"
      },
      "source": [
        "## Reto 4: Modificando diccionarios\n",
        "\n",
        "### 1. Objetivos:\n",
        "    - Practicar agregar datos, modificar datos y eliminar datos de diccionarios\n",
        "\n",
        "---\n",
        "    \n",
        "### 2. Desarrollo:"
      ]
    },
    {
      "cell_type": "markdown",
      "metadata": {
        "id": "8O1HT0Qnfl60"
      },
      "source": [
        "Debajo tienes un diccionario que contiene algo de información sobre una persona:"
      ]
    },
    {
      "cell_type": "code",
      "execution_count": 4,
      "metadata": {
        "id": "R-3oKmlkfl61",
        "outputId": "37ca3dc6-b90a-4183-df3a-59455d562bf5",
        "colab": {
          "base_uri": "https://localhost:8080/",
          "height": 35
        }
      },
      "outputs": [
        {
          "output_type": "execute_result",
          "data": {
            "text/plain": [
              "'142'"
            ],
            "application/vnd.google.colaboratory.intrinsic+json": {
              "type": "string"
            }
          },
          "metadata": {},
          "execution_count": 4
        }
      ],
      "source": [
        "registro = {\n",
        "    \"id\": \"23f-58j-kju7-54re\",\n",
        "    \"nombre\": \"Alberto\",\n",
        "    \"apellido_materno\": \"Gutierrez\",\n",
        "    \"apellido_paterno\": \"Sosa\",\n",
        "    \"profesion\": \"Contador\",\n",
        "    \"ultimo_nivel_de_estudios\": \"Maestría\",\n",
        "    \"lugar_de_estudios\": \"UAM\",\n",
        "    \"numero_de_cuenta\": \"25367890\",\n",
        "    \"nip_de_cajero\": \"142\"\n",
        "}\n",
        "\n",
        "registro[\"nombre\"] = \"Daniela\"\n",
        "registro[\"apellido_paterno\"] = \"Sinco\"\n",
        "registro[\"apellido_materno\"] = \"Jimenez\"\n",
        "registro[\"profesion\"] = \"Desarrollador\"\n",
        "registro[\"ultimo_nivel_de_estudios\"] = \"Ingeniería\"\n",
        "registro[\"lugar_de_estudios\"] = \"Universidad Cuauhtémoc\"\n",
        "registro[\"fecha_de_nacimiento\"] = \"20/07/1998\"\n",
        "registro[\"lugar_de_nacimiento\"] = \"Qro\"\n",
        "registro.pop(\"numero_de_cuenta\")\n",
        "registro.pop(\"nip_de_cajero\")\n"
      ]
    },
    {
      "cell_type": "markdown",
      "metadata": {
        "id": "JmNx92wRfl61"
      },
      "source": [
        "Ahora, tenemos una serie de `prints` que imprimen esta información en forma de tabla:"
      ]
    },
    {
      "cell_type": "code",
      "execution_count": 5,
      "metadata": {
        "id": "FeTGOEBQfl61",
        "outputId": "8ee26006-463b-40d3-b078-f52b282f5af0",
        "colab": {
          "base_uri": "https://localhost:8080/"
        }
      },
      "outputs": [
        {
          "output_type": "stream",
          "name": "stdout",
          "text": [
            "Registro con id: 23f-58j-kju7-54re\n",
            "\n",
            "---------------------------------------\n",
            "\n",
            "Nombre                    | Daniela                  \n",
            "Apellido Materno          | Jimenez                  \n",
            "Apellido Paterno          | Sinco                    \n",
            "Profesión                 | Desarrollador            \n",
            "Último nivel de estudios  | Ingeniería               \n",
            "Lugar de estudios         | Universidad Cuauhtémoc   \n",
            "Fecha de nacimiento       | 20/07/1998               \n",
            "Lugar de nacimiento       | Qro                      \n"
          ]
        }
      ],
      "source": [
        "print(f'Registro con id: {registro[\"id\"]}\\n')\n",
        "print(f'---------------------------------------\\n')\n",
        "print(f'{(\"Nombre\"):25} | {registro[\"nombre\"]:25}')\n",
        "print(f'{(\"Apellido Materno\"):25} | {registro[\"apellido_materno\"]:25}')\n",
        "print(f'{(\"Apellido Paterno\"):25} | {registro[\"apellido_paterno\"]:25}')\n",
        "print(f'{(\"Profesión\"):25} | {registro[\"profesion\"]:25}')\n",
        "print(f'{(\"Último nivel de estudios\"):25} | {registro[\"ultimo_nivel_de_estudios\"]:25}')\n",
        "print(f'{(\"Lugar de estudios\"):25} | {registro[\"lugar_de_estudios\"]:25}')\n",
        "print(f'{(\"Fecha de nacimiento\"):25} | {registro[\"fecha_de_nacimiento\"]:25}')\n",
        "print(f'{(\"Lugar de nacimiento\"):25} | {registro[\"lugar_de_nacimiento\"]:25}')"
      ]
    },
    {
      "cell_type": "markdown",
      "metadata": {
        "id": "kqkqt3Xwfl61"
      },
      "source": [
        "La actividad tienen 3 partes:\n",
        "\n",
        "1. Usando la técnica para modificar valores en un diccionario, cambia la información del diccionario para que sea la tuya.\n",
        "2. Usando la técnica para agregar datos al diccionario agrega las llaves que estén siendo accesadas en el `print` pero que no han sido agregadas al diccionario.\n",
        "3. Usando la técnica para eliminar datos del diccionario, elimina los datos sensibles que no quieras que estén incluidos en el diccionario.\n",
        "\n",
        "Recuerda sólo utilizar métodos y operadores para realizar el ejercicio. **No reescribas el diccionario directamente**."
      ]
    },
    {
      "cell_type": "markdown",
      "metadata": {
        "id": "hiobd5kFfl62"
      },
      "source": [
        "<details><summary>Solución</summary>\n",
        "\n",
        "```python\n",
        "# Si eres Alberto Sosa Gutiérrez, perdón por usar tus datos sin tu permiso\n",
        "    \n",
        "registro[\"nombre\"] = \"José Ramón\"\n",
        "registro[\"apellido_materno\"] = \"Arias\"\n",
        "registro[\"apellido_paterno\"] = \"González\"\n",
        "registro[\"profesion\"] = \"Cientifico de Datos\"\n",
        "registro[\"ultimo_nivel_de_estudios\"] = \"licenciatura\"\n",
        "registro[\"lugar_de_estudios\"] = \"UNAM\"\n",
        "registro[\"fecha_de_nacimiento\"] = \"28 de Marzo de 1989\"\n",
        "registro[\"lugar_de_nacimiento\"] = \"CDMX\"\n",
        "registro.pop(\"numero_de_cuenta\")\n",
        "registro.pop(\"nip_de_cajero\")\n",
        "```\n",
        "    \n",
        "</details>"
      ]
    },
    {
      "cell_type": "code",
      "execution_count": null,
      "metadata": {
        "id": "8Rv3JAwbfl62"
      },
      "outputs": [],
      "source": []
    }
  ],
  "metadata": {
    "kernelspec": {
      "display_name": "Python (data_science)",
      "language": "python",
      "name": "data_science"
    },
    "language_info": {
      "codemirror_mode": {
        "name": "ipython",
        "version": 3
      },
      "file_extension": ".py",
      "mimetype": "text/x-python",
      "name": "python",
      "nbconvert_exporter": "python",
      "pygments_lexer": "ipython3",
      "version": "3.8.5"
    },
    "colab": {
      "provenance": []
    }
  },
  "nbformat": 4,
  "nbformat_minor": 0
}